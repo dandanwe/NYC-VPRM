{
 "cells": [
  {
   "cell_type": "code",
   "execution_count": 5,
   "id": "fffa760c",
   "metadata": {},
   "outputs": [],
   "source": [
    "'''\n",
    "This script interpolates the EVI and LSWI for 2021 and save the file\n",
    "'''\n",
    "\n",
    "import matplotlib.pyplot as plt\n",
    "import matplotlib.dates as mdates\n",
    "import numpy as np\n",
    "import pandas as pd\n",
    "from datetime import datetime\n",
    "import glob\n",
    "from scipy import interpolate\n",
    "from scipy.interpolate import interp1d\n",
    "import time\n",
    "\n",
    "DataDir     = \"/data0/dwei/Landsat/2021/TimeSeries/\"\n",
    "FigDir_temp = \"/data0/dwei/temp/\"\n",
    "PlotDir     = '/data0/dwei/plotdata/'\n",
    "\n",
    "# Sort the files in sequence based on day of year\n",
    "TS_files = glob.glob(DataDir+'*EVI*')\n",
    "DOY      = []\n",
    "Files    = []\n",
    "for file in TS_files:  \n",
    "    # append the files\n",
    "    Files.append(file)\n",
    "    # find the corresponding DOY\n",
    "    timestr  = file[-8:]\n",
    "#     print(timestr)\n",
    "    dt = datetime.strptime(timestr, '%Y%m%d')\n",
    "    dd = dt.date()          # only date without time\n",
    "    doy= dd.strftime('%j')  # Day of year as a string\n",
    "    DOY.append(int(doy))\n",
    "    \n",
    "files_sorted = [x for _, x in sorted(zip(DOY, Files))]\n",
    "# print(files_sorted)\n",
    "# print(np.size(files_sorted))"
   ]
  },
  {
   "cell_type": "code",
   "execution_count": 6,
   "id": "be09537c",
   "metadata": {},
   "outputs": [
    {
     "name": "stderr",
     "output_type": "stream",
     "text": [
      "/opt/sw/anaconda3/envs/GDAL+/lib/python3.7/site-packages/ipykernel_launcher.py:23: RuntimeWarning: Mean of empty slice\n",
      "/opt/sw/anaconda3/envs/GDAL+/lib/python3.7/site-packages/ipykernel_launcher.py:25: RuntimeWarning: Mean of empty slice\n"
     ]
    },
    {
     "name": "stdout",
     "output_type": "stream",
     "text": [
      "   2021-01-07  2021-01-15  2021-01-23  2021-02-08  2021-02-24  2021-03-04  \\\n",
      "0      0.3443         NaN      0.3436         NaN         NaN         NaN   \n",
      "1      0.2826         NaN      0.2835         NaN         NaN         NaN   \n",
      "2      0.2525         NaN      0.2983         NaN         NaN         NaN   \n",
      "3      0.2620         NaN      0.2850         NaN         NaN         NaN   \n",
      "4      0.2877         NaN      0.2934         NaN         NaN         NaN   \n",
      "\n",
      "   2021-03-12  2021-03-20  2021-04-05  2021-04-13  ...  2021-10-06  \\\n",
      "0      0.3127         NaN      0.3485         NaN  ...         NaN   \n",
      "1      0.2366         NaN      0.2622         NaN  ...         NaN   \n",
      "2      0.2309         NaN      0.2377         NaN  ...         NaN   \n",
      "3      0.2535         NaN      0.2481         NaN  ...         NaN   \n",
      "4      0.2484         NaN      0.2572         NaN  ...         NaN   \n",
      "\n",
      "   2021-10-14  2021-10-22  2021-10-30  2021-11-07  2021-11-15  2021-11-23  \\\n",
      "0         NaN      0.4365         NaN      0.4142         NaN      0.4082   \n",
      "1         NaN      0.2942         NaN      0.2945         NaN         NaN   \n",
      "2         NaN      0.2701         NaN      0.3435         NaN         NaN   \n",
      "3         NaN      0.4739         NaN      0.4546         NaN         NaN   \n",
      "4         NaN      0.4066         NaN      0.4038         NaN         NaN   \n",
      "\n",
      "   2021-12-01  2021-12-09  2021-12-17  \n",
      "0         NaN         NaN         NaN  \n",
      "1         NaN         NaN         NaN  \n",
      "2         NaN         NaN         NaN  \n",
      "3         NaN         NaN         NaN  \n",
      "4         NaN         NaN         NaN  \n",
      "\n",
      "[5 rows x 37 columns]\n",
      "   2021-01-07  2021-01-15  2021-01-23  2021-02-08  2021-02-24  2021-03-04  \\\n",
      "0    0.058835         NaN    0.060040         NaN         NaN         NaN   \n",
      "1    0.042448         NaN    0.019951         NaN         NaN         NaN   \n",
      "2    0.006265         NaN    0.042641         NaN         NaN         NaN   \n",
      "3    0.013422         NaN    0.006000         NaN         NaN         NaN   \n",
      "4    0.031970         NaN    0.015361         NaN         NaN         NaN   \n",
      "\n",
      "   2021-03-12  2021-03-20  2021-04-05  2021-04-13  ...  2021-10-06  \\\n",
      "0    0.025111         NaN    0.046621         NaN  ...         NaN   \n",
      "1   -0.004771         NaN    0.025250         NaN  ...         NaN   \n",
      "2    0.006085         NaN    0.024152         NaN  ...         NaN   \n",
      "3   -0.025634         NaN   -0.001221         NaN  ...         NaN   \n",
      "4   -0.019213         NaN   -0.000158         NaN  ...         NaN   \n",
      "\n",
      "   2021-10-14  2021-10-22  2021-10-30  2021-11-07  2021-11-15  2021-11-23  \\\n",
      "0         NaN    0.134861         NaN    0.122724         NaN    0.083064   \n",
      "1         NaN    0.058109         NaN    0.044179         NaN         NaN   \n",
      "2         NaN    0.038810         NaN    0.094942         NaN         NaN   \n",
      "3         NaN    0.159321         NaN    0.124757         NaN         NaN   \n",
      "4         NaN    0.121543         NaN    0.111061         NaN         NaN   \n",
      "\n",
      "   2021-12-01  2021-12-09  2021-12-17  \n",
      "0         NaN         NaN         NaN  \n",
      "1         NaN         NaN         NaN  \n",
      "2         NaN         NaN         NaN  \n",
      "3         NaN         NaN         NaN  \n",
      "4         NaN         NaN         NaN  \n",
      "\n",
      "[5 rows x 37 columns]\n"
     ]
    }
   ],
   "source": [
    "# Read in the raw files  in temporal sequence (37 for EVI and LSWI, respectively)\n",
    "EVI_ave   = []\n",
    "LSWI_ave  = []\n",
    "EVI_all   = np.empty((2411760, len(files_sorted)))\n",
    "LSWI_all  = np.empty((2411760, len(files_sorted)))\n",
    "DOY       = []  # Day of year\n",
    "Timestamp = []  # Timestamp\n",
    "Dates     = []  # datetime format\n",
    "\n",
    "count     = 0\n",
    "for file in files_sorted:\n",
    "    data= pd.read_csv(file)\n",
    "    \n",
    "    # The date for the file\n",
    "    Date= data[\"Time\"][0]    \n",
    "    dt  = datetime.strptime(Date, '%Y-%m-%d')\n",
    "    Timestamp.append(datetime.timestamp(dt)) # Timestamp\n",
    "    DOY.append(int(dt.strftime('%j')))       # Day of year\n",
    "    Dates.append(dt.date())                  # datetime format\n",
    "   \n",
    "    # The average EVI and LSWI values    \n",
    "    EVI = data[\"EVI\"]     \n",
    "    EVI_ave.append(np.nanmean(EVI))\n",
    "    LSWI = data[\"LSWI\"]     \n",
    "    LSWI_ave.append(np.nanmean(LSWI))\n",
    "    \n",
    "    # Store all the EVI and LSWI into one file\n",
    "    EVI_all[:, count] = EVI\n",
    "    LSWI_all[:, count]= LSWI\n",
    "    count+=1\n",
    "\n",
    "# # Save the EVI in one file and calculate the region mean\n",
    "# # Create a list of date strings\n",
    "# date_lst = []\n",
    "# for date in Dates:\n",
    "#     date_lst.append(str(date))\n",
    "    \n",
    "# df_evi = pd.DataFrame(EVI_all, columns=date_lst)\n",
    "# print(df_evi.head())\n",
    "# df_evi.to_csv('/data0/dwei/Landsat/2021/EVI_all_raw')  \n",
    "\n",
    "# # Save the LSWI in one file and calculate the region mean\n",
    "# df_lswi = pd.DataFrame(LSWI_all, columns=date_lst)\n",
    "# print(df_lswi.head())\n",
    "# df_lswi.to_csv('/data0/dwei/Landsat/2021/LSWI_all_raw')  "
   ]
  },
  {
   "cell_type": "code",
   "execution_count": 8,
   "id": "1dd60ad0",
   "metadata": {},
   "outputs": [
    {
     "name": "stdout",
     "output_type": "stream",
     "text": [
      "(2411760, 365) (2411760, 365)\n",
      "--- 12.303109984844923 minutes ---\n"
     ]
    }
   ],
   "source": [
    "# Interpolate the EVI and LSWI along time\n",
    "start_time = time.time()\n",
    "\n",
    "# Pre-nterpolation \n",
    "EVI_np = df_evi.to_numpy()\n",
    "LSWI_np= df_lswi.to_numpy()\n",
    "# print(np.shape(EVI_np), np.shape(LSWI_np)) #(2411760, 37)\n",
    "# print(DOY) # 37 dates\n",
    "\n",
    "# Interpolated data\n",
    "xnew = range(1, 366, 1)\n",
    "EVI_intp = np.empty((np.size(EVI_np[:,0]), len(xnew)))\n",
    "EVI_intp[:] = np.nan\n",
    "LSWI_intp = np.empty((np.size(LSWI_np[:,0]), len(xnew)))\n",
    "LSWI_intp[:] = np.nan\n",
    "print(np.shape(EVI_intp), np.shape(LSWI_intp))\n",
    "\n",
    "def EVI_LSWI_interp(x, y, xnew):\n",
    "    '''\n",
    "    x: the sparse x \n",
    "    y: the sparse y\n",
    "    xnew: the wanted x\n",
    "    '''    \n",
    "    # Remove NaN in evi\n",
    "    test  = [(w1,w2) for (w1,w2) in zip(x, y) if ~np.isnan(w2)]\n",
    "    x_non = [w1 for (w1,w2) in test]\n",
    "    y_non = [w2 for (w1,w2) in test]\n",
    "    \n",
    "    # Cubic-spline interpolation\n",
    "    # if ext=3, return the boundary value\n",
    "    # if ext=0, return the extrapolated value.\n",
    "    # if ext=1, return 0\n",
    "    if np.size(x_non)<4:\n",
    "        ynew = np.zeros((365))\n",
    "    # print(\"Too few data points for cubic-spline interpolation!\")\n",
    "    else:        \n",
    "        tck  = interpolate.splrep(x_non, y_non)\n",
    "        ynew = interpolate.splev(xnew, tck, ext=1) \n",
    "    \n",
    "    # set all zeros generaged by the interpolation to nan\n",
    "    ynew[ynew==0.0] = np.nan\n",
    "    return ynew\n",
    "\n",
    "for x in range(0, 2411760):\n",
    "    evi = EVI_np[x, :] \n",
    "    lswi= LSWI_np[x, :] \n",
    "    \n",
    "    ynew_evi = EVI_LSWI_interp(DOY, evi, xnew)\n",
    "    ynew_lswi= EVI_LSWI_interp(DOY, lswi, xnew)\n",
    "    \n",
    "    EVI_intp[x, :] = ynew_evi\n",
    "    LSWI_intp[x, :]= ynew_lswi\n",
    "    \n",
    "# # Save the interpolated LSWI in a single file\n",
    "# start_time = time.time()\n",
    "\n",
    "# df_evi = pd.DataFrame(data=EVI_intp)\n",
    "# print(df_evi.head())\n",
    "# df_evi.to_csv('/data0/dwei/Landsat/2021/EVI_all_intp_row2411760') \n",
    "\n",
    "# df_lswi = pd.DataFrame(data=LSWI_intp)\n",
    "# print(df_lswi.head())\n",
    "# df_lswi.to_csv('/data0/dwei/Landsat/2021/LSWI_all_intp_row2411760') \n",
    "\n",
    "print(\"--- %s minutes ---\" % (time.time()/60 - start_time/60))\n",
    "    \n",
    "# clear_output(wait=True)\n"
   ]
  },
  {
   "cell_type": "code",
   "execution_count": 76,
   "id": "0868994e",
   "metadata": {},
   "outputs": [
    {
     "name": "stdout",
     "output_type": "stream",
     "text": [
      "   0    1    2    3    4    5       6         7         8         9    ...  \\\n",
      "0  NaN  NaN  NaN  NaN  NaN  NaN  0.3443  0.345071  0.345713  0.346231  ...   \n",
      "1  NaN  NaN  NaN  NaN  NaN  NaN  0.2826  0.283486  0.284243  0.284877  ...   \n",
      "2  NaN  NaN  NaN  NaN  NaN  NaN  0.2525  0.257543  0.262261  0.266661  ...   \n",
      "3  NaN  NaN  NaN  NaN  NaN  NaN  0.2620  0.265056  0.267863  0.270427  ...   \n",
      "4  NaN  NaN  NaN  NaN  NaN  NaN  0.2877  0.289139  0.290411  0.291520  ...   \n",
      "\n",
      "   355  356  357  358  359  360  361  362  363  364  \n",
      "0  NaN  NaN  NaN  NaN  NaN  NaN  NaN  NaN  NaN  NaN  \n",
      "1  NaN  NaN  NaN  NaN  NaN  NaN  NaN  NaN  NaN  NaN  \n",
      "2  NaN  NaN  NaN  NaN  NaN  NaN  NaN  NaN  NaN  NaN  \n",
      "3  NaN  NaN  NaN  NaN  NaN  NaN  NaN  NaN  NaN  NaN  \n",
      "4  NaN  NaN  NaN  NaN  NaN  NaN  NaN  NaN  NaN  NaN  \n",
      "\n",
      "[5 rows x 365 columns]\n"
     ]
    }
   ],
   "source": [
    "# Save the interpolated EVI and LSWI by month\n",
    "months= [31, 28, 31, 30, 31, 30, 31, 31, 30, 31, 30, 31]\n",
    "Mon   = [\"Jan\",\"Feb\",\"Mar\",\"Apr\",\"May\",\"Jun\",\"Jul\",\"Aug\",\"Sep\",\"Oct\",\"Nov\",\"Dec\"]\n",
    "def save_EVI_LSWI_by_month(Data, OutDir):\n",
    "    Data_tmp = Data\n",
    "    i = 0\n",
    "    for mon in months:\n",
    "        print(\"------- Processing %s --------\" %(Mon[i]))\n",
    "        df = pd.DataFrame(data=Data_tmp[:,0:months[i]])\n",
    "        df.to_csv(OutDir + Mon[i])                 \n",
    "        Data_tmp = Data[:,months[i]:]\n",
    "        i+=1       \n",
    "\n",
    "start_time = time.time()\n",
    "\n",
    "LSWIDir = '/data0/dwei/Landsat/2021/LSWI_intp_'\n",
    "EVIDir  = '/data0/dwei/Landsat/2021/EVI_intp_'\n",
    "save_EVI_LSWI_by_month(LSWI_intp, LSWIDir)\n",
    "save_EVI_LSWI_by_month(EVI_intp, EVIDir)\n",
    "    \n",
    "print(\"--- %s minutes ---\" % (time.time()/60 - start_time/60))\n"
   ]
  },
  {
   "cell_type": "code",
   "execution_count": 13,
   "id": "312374c8",
   "metadata": {
    "scrolled": true
   },
   "outputs": [
    {
     "name": "stderr",
     "output_type": "stream",
     "text": [
      "/opt/sw/anaconda3/envs/GDAL+/lib/python3.7/site-packages/ipykernel_launcher.py:2: RuntimeWarning: Mean of empty slice\n",
      "  \n"
     ]
    },
    {
     "name": "stdout",
     "output_type": "stream",
     "text": [
      "(365,) (365,)\n"
     ]
    },
    {
     "name": "stderr",
     "output_type": "stream",
     "text": [
      "/opt/sw/anaconda3/envs/GDAL+/lib/python3.7/site-packages/ipykernel_launcher.py:3: RuntimeWarning: Mean of empty slice\n",
      "  This is separate from the ipykernel package so we can avoid doing imports until\n"
     ]
    },
    {
     "data": {
      "image/png": "[encoded data removed]",
      "text/plain": [
       "<Figure size 432x288 with 1 Axes>"
      ]
     },
     "metadata": {
      "needs_background": "light"
     },
     "output_type": "display_data"
    },
    {
     "data": {
      "image/png": "[encoded data removed]",
      "text/plain": [
       "<Figure size 432x288 with 1 Axes>"
      ]
     },
     "metadata": {
      "needs_background": "light"
     },
     "output_type": "display_data"
    }
   ],
   "source": [
    "# Calculate the region mean based on the interpolated EVI\n",
    "EVI_intp_ave  = np.nanmean(EVI_intp, axis=0)\n",
    "LSWI_intp_ave = np.nanmean(LSWI_intp, axis=0)\n",
    "print(np.shape(EVI_intp_ave), np.shape(LSWI_intp_ave))\n",
    "\n",
    "plt.figure(1)\n",
    "plt.plot(DOY, EVI_ave, 'd')\n",
    "plt.plot(range(1, 366), EVI_intp_ave)\n",
    "plt.ylabel(\"EVI\")\n",
    "plt.xlabel(\"Day of year 2021\")\n",
    "plt.legend(['EVI', 'EVI_intp'])\n",
    "plt.show()\n",
    "\n",
    "plt.figure(2)\n",
    "plt.plot(DOY, LSWI_ave, 'd')\n",
    "plt.plot(range(1, 366), LSWI_intp_ave)\n",
    "plt.ylabel(\"LSWI\")\n",
    "plt.xlabel(\"Day of year 2021\")\n",
    "plt.legend(['LSWI', 'LSWI_intp'])\n",
    "plt.show()"
   ]
  }
 ],
 "metadata": {
  "kernelspec": {
   "display_name": "Python 3 (ipykernel)",
   "language": "python",
   "name": "python3"
  },
  "language_info": {
   "codemirror_mode": {
    "name": "ipython",
    "version": 3
   },
   "file_extension": ".py",
   "mimetype": "text/x-python",
   "name": "python",
   "nbconvert_exporter": "python",
   "pygments_lexer": "ipython3",
   "version": "3.7.11"
  }
 },
 "nbformat": 4,
 "nbformat_minor": 5
}
